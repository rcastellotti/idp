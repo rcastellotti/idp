{
 "cells": [
  {
   "cell_type": "code",
   "execution_count": 5,
   "id": "0b32b365-1764-47f3-9ff7-3a11e43242a4",
   "metadata": {},
   "outputs": [
    {
     "name": "stderr",
     "output_type": "stream",
     "text": [
      "/tmp/ipykernel_4160975/2793288969.py:17: RuntimeWarning: invalid value encountered in add\n",
      "  mapa += map\n"
     ]
    },
    {
     "ename": "KeyError",
     "evalue": "'snr'",
     "output_type": "error",
     "traceback": [
      "\u001b[0;31m---------------------------------------------------------------------------\u001b[0m",
      "\u001b[0;31mKeyError\u001b[0m                                  Traceback (most recent call last)",
      "Cell \u001b[0;32mIn[5], line 14\u001b[0m\n\u001b[1;32m     11\u001b[0m \u001b[39mwith\u001b[39;00m \u001b[39mopen\u001b[39m(\u001b[39mf\u001b[39m\u001b[39m\"\u001b[39m\u001b[39m{\u001b[39;00mdirectory\u001b[39m}\u001b[39;00m\u001b[39m/\u001b[39m\u001b[39m{\u001b[39;00mfile\u001b[39m}\u001b[39;00m\u001b[39m\"\u001b[39m, \u001b[39m\"\u001b[39m\u001b[39mr\u001b[39m\u001b[39m\"\u001b[39m) \u001b[39mas\u001b[39;00m f:\n\u001b[1;32m     12\u001b[0m     \u001b[39m# print(file)\u001b[39;00m\n\u001b[1;32m     13\u001b[0m     \u001b[39mmap\u001b[39m \u001b[39m=\u001b[39m json\u001b[39m.\u001b[39mload(f)\n\u001b[0;32m---> 14\u001b[0m     \u001b[39mmap\u001b[39m \u001b[39m=\u001b[39m \u001b[39mmap\u001b[39;49m[\u001b[39m\"\u001b[39;49m\u001b[39mdishGetObstructionMap\u001b[39;49m\u001b[39m\"\u001b[39;49m][\u001b[39m\"\u001b[39;49m\u001b[39msnr\u001b[39;49m\u001b[39m\"\u001b[39;49m]\n\u001b[1;32m     15\u001b[0m     \u001b[39mmap\u001b[39m \u001b[39m=\u001b[39m np\u001b[39m.\u001b[39marray(\u001b[39mmap\u001b[39m)\u001b[39m.\u001b[39mreshape(\u001b[39m123\u001b[39m, \u001b[39m123\u001b[39m)\n\u001b[1;32m     16\u001b[0m     \u001b[39mmap\u001b[39m \u001b[39m=\u001b[39m np\u001b[39m.\u001b[39mrepeat(np\u001b[39m.\u001b[39mrepeat(\u001b[39mmap\u001b[39m, \u001b[39m10\u001b[39m, axis\u001b[39m=\u001b[39m\u001b[39m1\u001b[39m), \u001b[39m10\u001b[39m, axis\u001b[39m=\u001b[39m\u001b[39m0\u001b[39m)\n",
      "\u001b[0;31mKeyError\u001b[0m: 'snr'"
     ]
    }
   ],
   "source": [
    "import json\n",
    "import os\n",
    "\n",
    "import matplotlib.pyplot as plt\n",
    "import numpy as np\n",
    "\n",
    "directory = \"/home/rc/idp-castellotti-data/maps_x\"\n",
    "\n",
    "mapa = np.empty([1230, 1230])\n",
    "for file in os.listdir(directory):\n",
    "    with open(f\"{directory}/{file}\", \"r\") as f:\n",
    "        # print(file)\n",
    "        map = json.load(f)\n",
    "        map = map[\"dishGetObstructionMap\"][\"snr\"]\n",
    "        map = np.array(map).reshape(123, 123)\n",
    "        map = np.repeat(np.repeat(map, 10, axis=1), 10, axis=0)\n",
    "        mapa += map\n",
    "plt.figure(figsize=(12, 12))\n",
    "plt.imshow(mapa)"
   ]
  }
 ],
 "metadata": {
  "kernelspec": {
   "display_name": "Python 3 (ipykernel)",
   "language": "python",
   "name": "python3"
  },
  "language_info": {
   "codemirror_mode": {
    "name": "ipython",
    "version": 3
   },
   "file_extension": ".py",
   "mimetype": "text/x-python",
   "name": "python",
   "nbconvert_exporter": "python",
   "pygments_lexer": "ipython3",
   "version": "3.9.2"
  }
 },
 "nbformat": 4,
 "nbformat_minor": 5
}
