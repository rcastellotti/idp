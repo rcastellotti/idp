{
 "cells": [
  {
   "cell_type": "code",
   "execution_count": null,
   "id": "0b32b365-1764-47f3-9ff7-3a11e43242a4",
   "metadata": {},
   "outputs": [
    {
     "ename": "",
     "evalue": "",
     "output_type": "error",
     "traceback": [
      "\u001b[1;31mRunning cells with '/run/current-system/sw/bin/python' requires the ipykernel package.\n",
      "\u001b[1;31mRun the following command to install 'ipykernel' into the Python environment. \n",
      "\u001b[1;31mCommand: '/run/current-system/sw/bin/python -m pip install ipykernel -U --user --force-reinstall'"
     ]
    }
   ],
   "source": [
    "import json\n",
    "import os\n",
    "\n",
    "import matplotlib.pyplot as plt\n",
    "import numpy as np\n",
    "\n",
    "file = \"/home/roberto/idp-castellotti/maps_overnight/map-1689375304.json\"\n",
    "\n",
    "with open(file, \"r\") as f:\n",
    "    map = json.load(f)\n",
    "    map = map[\"dishGetObstructionMap\"][\"snr\"]\n",
    "    map = np.array(map).reshape(123, 123)\n",
    "    print(map)\n"
   ]
  },
  {
   "cell_type": "code",
   "execution_count": null,
   "id": "b8d066d2",
   "metadata": {},
   "outputs": [],
   "source": []
  }
 ],
 "metadata": {
  "kernelspec": {
   "display_name": "Python 3 (ipykernel)",
   "language": "python",
   "name": "python3"
  },
  "language_info": {
   "codemirror_mode": {
    "name": "ipython",
    "version": 3
   },
   "file_extension": ".py",
   "mimetype": "text/x-python",
   "name": "python",
   "nbconvert_exporter": "python",
   "pygments_lexer": "ipython3",
   "version": "3.10.12"
  }
 },
 "nbformat": 4,
 "nbformat_minor": 5
}
