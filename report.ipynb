{
 "cells": [
  {
   "cell_type": "markdown",
   "id": "101ec060-7381-4c18-8671-f90b0c5c8062",
   "metadata": {},
   "source": [
    "# Visualizing satellite handovers \n",
    "\n",
    "The Starlink gRPC api exposes a `dish_get_obstruction_map` method, following the approach described in CITE_LEO_PAPER we can use the information we gather from polling this method each second to extract the current obstruction map and visualize satellite handovers. The reason this works is the dish is adding a dot (setting a value to 1) in a 123*123 matrix whenever it sees a satellite in that position, whenever the dish is rebooted (using i.e `nine981.reboot`) the matrix is cleared by setting every entry to -1, whenever a satellite is detected entry is set. If we poll the endpoint frequently enough we can observe satellites traces, by comparing values in the matrices we obtain we can detect whether a satellite handover was performed.\n",
    "\n",
    "\n",
    "$$\n",
    "A_{t(x)}=\n",
    "\\begin{bmatrix}\n",
    "-1 & -1 & 1 & -1 & -1 \\\\\n",
    "-1 & -1 & -1 & 1 & -1 \\\\\n",
    "-1 & -1 & -1 & -1 & -1 \\\\\n",
    "-1 & -1 & -1 & -1 & -1 \\\\\n",
    "-1 & -1 & -1 & -1 & -1 \\\\\n",
    "\\end{bmatrix}\n",
    "B_{t(x+1)}=\n",
    "\\begin{bmatrix}\n",
    "-1 & -1 & 1 & -1 & -1 \\\\\n",
    "-1 & -1 & -1 & 1 & -1 \\\\\n",
    "-1 & -1 & -1 & -1 & 1 \\\\\n",
    "-1 & -1 & -1 & -1 & -1 \\\\\n",
    "-1 & -1 & -1 & -1 & -1 \\\\\n",
    "\\end{bmatrix}\n",
    "A+B=\n",
    "\\begin{bmatrix}\n",
    "-2 & -2 & 2 & -2 & -2 \\\\\n",
    "-2 & -2 & -2 & 2 & -2 \\\\\n",
    "-2 & -2 & -2 & -2 & 0 \\\\\n",
    "-2 & -2 & -2 & -2 & -2 \\\\\n",
    "-2 & -2 & -2 & -2 & -2 \\\\\n",
    "\\end{bmatrix}\n",
    "$$\n",
    "\n",
    "Let's assume these matrices come from the endpoints at $t_x$ and $t_{x+1}$ respectively, in the first matrix we have ones in $(0,2)$ and $(1,3)$, in the second one we have ones in $(0,2)$, $(1,3)$, $(2,4)$, this means the new satellite we saw at $t_{x+1}$ is on the same path as the satellites before, thus NO handover was not performed.\n",
    "\n",
    "$$\n",
    "A_{t(x)}=\n",
    "\\begin{bmatrix}\n",
    "-1 & -1 & 1 & -1 & -1 \\\\\n",
    "-1 & -1 & -1 & 1 & -1 \\\\\n",
    "-1 & -1 & -1 & -1 & -1 \\\\\n",
    "-1 & -1 & -1 & -1 & -1 \\\\\n",
    "-1 & -1 & -1 & -1 & -1 \\\\\n",
    "\\end{bmatrix}\n",
    "B_{t(x+1)}=\n",
    "\\begin{bmatrix}\n",
    "-1 & -1 & 1 & -1 & -1 \\\\\n",
    "-1 & -1 & -1 & 1 & -1 \\\\\n",
    "-1 & -1 & -1 & -1 & -1 \\\\\n",
    "-1 & -1 & -1 & -1 & -1 \\\\\n",
    "1 & -1 & -1 & -1 & -1 \\\\\n",
    "\\end{bmatrix}\n",
    "A+B\n",
    "=\n",
    "\\begin{bmatrix}\n",
    "-2 & -2 & 2 & -2 & -2 \\\\\n",
    "-2 & -2 & -2 & 2 & -2 \\\\\n",
    "-2 & -2 & -2 & -2 & -2 \\\\\n",
    "-2 & -2 & -2 & -2 & -2 \\\\\n",
    "0 & -2 & -2 & -2 & -2 \\\\\n",
    "\\end{bmatrix}\n",
    "$$\n",
    "\n",
    "If instead the new satellite we see at $t_{x+1}$ is in a totally different area an handover must have been performed.\n",
    "\n",
    "We can observe it is pretty easy to detect whether an handover was performed, it is sufficient to sum the two matrices and check whether the $0$ value (there was -1 before and we currently have 1) is near an entry whose value is $2$ (at $t_{x}$ value was 1 and at $t_{x+1}$ value is $1$. \n",
    "\n",
    "\n",
    "\n",
    "First of all we need to write a script to extract obstruction maps from the dish, to achieve this goal we can use the `nine981.get_obstruction_map` function, this returns a json file similar to this:\n",
    "\n",
    "```json\n",
    "{'apiVersion': '9',\n",
    " 'dishGetObstructionMap': {'minElevationDeg': 10.0,\n",
    "                           'numCols': 123,\n",
    "                           'numRows': 123,\n",
    "                           'snr': [-1.0,\n",
    "                                   -1.0,\n",
    "                                   -1.0,\n",
    "                                   1.0,\n",
    "                                   1.0,\n",
    "                                   -1.0,\n",
    "                                   -1.0,\n",
    "                                   1.0,\n",
    "                                   1.0,\n",
    "                                   1.0,\n",
    "                                   -1.0,\n",
    "                                   -1.0,\n",
    "                                   -1.0,\n",
    "                                   -1.0]}}\n",
    "```\n",
    "\n",
    "Thus we can simply extract the values in `map[\"dishGetObstructionMap\"][\"snr\"]` and use `np.array(map).reshape(123, 123)` to reshape the array into a $123\\times123$ matrix.\n",
    "\n",
    "\n"
   ]
  },
  {
   "cell_type": "code",
   "execution_count": 3,
   "id": "fd09a587-fccf-493b-b982-42ec9d75efa4",
   "metadata": {},
   "outputs": [
    {
     "ename": "_MultiThreadedRendezvous",
     "evalue": "<_MultiThreadedRendezvous of RPC that terminated with:\n\tstatus = StatusCode.DEADLINE_EXCEEDED\n\tdetails = \"Deadline Exceeded\"\n\tdebug_error_string = \"UNKNOWN:Deadline Exceeded {created_time:\"2023-08-15T16:19:19.89918+02:00\", grpc_status:4}\"\n>",
     "output_type": "error",
     "traceback": [
      "\u001b[0;31m---------------------------------------------------------------------------\u001b[0m",
      "\u001b[0;31m_MultiThreadedRendezvous\u001b[0m                  Traceback (most recent call last)",
      "Cell \u001b[0;32mIn[3], line 16\u001b[0m\n\u001b[1;32m     13\u001b[0m     os\u001b[38;5;241m.\u001b[39mexit(\u001b[38;5;241m0\u001b[39m)\n\u001b[1;32m     15\u001b[0m \u001b[38;5;28;01mif\u001b[39;00m \u001b[38;5;18m__name__\u001b[39m \u001b[38;5;241m==\u001b[39m \u001b[38;5;124m\"\u001b[39m\u001b[38;5;124m__main__\u001b[39m\u001b[38;5;124m\"\u001b[39m:\n\u001b[0;32m---> 16\u001b[0m     \u001b[43mget_obstruction_maps\u001b[49m\u001b[43m(\u001b[49m\u001b[43m)\u001b[49m\n",
      "Cell \u001b[0;32mIn[3], line 8\u001b[0m, in \u001b[0;36mget_obstruction_maps\u001b[0;34m()\u001b[0m\n\u001b[1;32m      5\u001b[0m \u001b[38;5;28;01mdef\u001b[39;00m \u001b[38;5;21mget_obstruction_maps\u001b[39m():\n\u001b[1;32m      6\u001b[0m     \u001b[38;5;66;03m# amount of seconds to collect maps for\u001b[39;00m\n\u001b[1;32m      7\u001b[0m     \u001b[38;5;28;01mfor\u001b[39;00m i \u001b[38;5;129;01min\u001b[39;00m \u001b[38;5;28mrange\u001b[39m(\u001b[38;5;241m300\u001b[39m):\n\u001b[0;32m----> 8\u001b[0m         \u001b[38;5;28mmap\u001b[39m \u001b[38;5;241m=\u001b[39m \u001b[43mnine981\u001b[49m\u001b[38;5;241;43m.\u001b[39;49m\u001b[43mget_obstruction_map\u001b[49m\u001b[43m(\u001b[49m\u001b[43m)\u001b[49m\n\u001b[1;32m      9\u001b[0m         os\u001b[38;5;241m.\u001b[39mmakedirs(os\u001b[38;5;241m.\u001b[39mpath\u001b[38;5;241m.\u001b[39mdirname(directory \u001b[38;5;241m+\u001b[39m \u001b[38;5;124m\"\u001b[39m\u001b[38;5;124m/\u001b[39m\u001b[38;5;124m\"\u001b[39m), exist_ok\u001b[38;5;241m=\u001b[39m\u001b[38;5;28;01mTrue\u001b[39;00m)\n\u001b[1;32m     10\u001b[0m         \u001b[38;5;28;01mwith\u001b[39;00m \u001b[38;5;28mopen\u001b[39m(\u001b[38;5;124mf\u001b[39m\u001b[38;5;124m\"\u001b[39m\u001b[38;5;132;01m{\u001b[39;00mdirectory\u001b[38;5;132;01m}\u001b[39;00m\u001b[38;5;124m/\u001b[39m\u001b[38;5;132;01m{\u001b[39;00m\u001b[38;5;28mint\u001b[39m(time\u001b[38;5;241m.\u001b[39mtime())\u001b[38;5;132;01m}\u001b[39;00m\u001b[38;5;124m.json\u001b[39m\u001b[38;5;124m\"\u001b[39m, \u001b[38;5;124m\"\u001b[39m\u001b[38;5;124mw+\u001b[39m\u001b[38;5;124m\"\u001b[39m) \u001b[38;5;28;01mas\u001b[39;00m f:\n",
      "File \u001b[0;32m~/idp-castellotti/nine981.py:27\u001b[0m, in \u001b[0;36mget_obstruction_map\u001b[0;34m()\u001b[0m\n\u001b[1;32m     26\u001b[0m \u001b[38;5;28;01mdef\u001b[39;00m \u001b[38;5;21mget_obstruction_map\u001b[39m():\n\u001b[0;32m---> 27\u001b[0m     stub \u001b[38;5;241m=\u001b[39m \u001b[43msetup\u001b[49m\u001b[43m(\u001b[49m\u001b[43m)\u001b[49m\n\u001b[1;32m     28\u001b[0m     \u001b[38;5;28mmap\u001b[39m \u001b[38;5;241m=\u001b[39m stub\u001b[38;5;241m.\u001b[39mHandle(device_pb2\u001b[38;5;241m.\u001b[39mRequest(dish_get_obstruction_map\u001b[38;5;241m=\u001b[39m{}), timeout\u001b[38;5;241m=\u001b[39m\u001b[38;5;241m5\u001b[39m)\n\u001b[1;32m     29\u001b[0m     \u001b[38;5;28;01mreturn\u001b[39;00m MessageToJson(\u001b[38;5;28mmap\u001b[39m)\n",
      "File \u001b[0;32m~/idp-castellotti/nine981.py:12\u001b[0m, in \u001b[0;36msetup\u001b[0;34m()\u001b[0m\n\u001b[1;32m     10\u001b[0m \u001b[38;5;28;01mdef\u001b[39;00m \u001b[38;5;21msetup\u001b[39m():\n\u001b[1;32m     11\u001b[0m     channel \u001b[38;5;241m=\u001b[39m grpc\u001b[38;5;241m.\u001b[39minsecure_channel(\u001b[38;5;124m\"\u001b[39m\u001b[38;5;124m192.168.100.1:9200\u001b[39m\u001b[38;5;124m\"\u001b[39m)\n\u001b[0;32m---> 12\u001b[0m     \u001b[43mimporter\u001b[49m\u001b[38;5;241;43m.\u001b[39;49m\u001b[43mresolve_lazy_imports\u001b[49m\u001b[43m(\u001b[49m\u001b[43mchannel\u001b[49m\u001b[43m)\u001b[49m\n\u001b[1;32m     13\u001b[0m     stub \u001b[38;5;241m=\u001b[39m device_pb2_grpc\u001b[38;5;241m.\u001b[39mDeviceStub(channel)\n\u001b[1;32m     14\u001b[0m     \u001b[38;5;28;01mreturn\u001b[39;00m stub\n",
      "File \u001b[0;32m~/idp-castellotti/venv/lib/python3.11/site-packages/yagrc/importer.py:335\u001b[0m, in \u001b[0;36mresolve_lazy_imports\u001b[0;34m(channel)\u001b[0m\n\u001b[1;32m    333\u001b[0m \u001b[38;5;28;01mtry\u001b[39;00m:\n\u001b[1;32m    334\u001b[0m     filenames \u001b[38;5;241m=\u001b[39m \u001b[38;5;28mset\u001b[39m(x[\u001b[38;5;241m0\u001b[39m] \u001b[38;5;28;01mfor\u001b[39;00m x \u001b[38;5;129;01min\u001b[39;00m pb2_modules \u001b[38;5;241m+\u001b[39m pb2_grpc_modules)\n\u001b[0;32m--> 335\u001b[0m     \u001b[43m_lazy_importer\u001b[49m\u001b[38;5;241;43m.\u001b[39;49m\u001b[43mconfigure\u001b[49m\u001b[43m(\u001b[49m\u001b[43mchannel\u001b[49m\u001b[43m,\u001b[49m\u001b[43m \u001b[49m\u001b[43mfilenames\u001b[49m\u001b[38;5;241;43m=\u001b[39;49m\u001b[43mfilenames\u001b[49m\u001b[43m)\u001b[49m\n\u001b[1;32m    336\u001b[0m     \u001b[38;5;28;01mfor\u001b[39;00m filename, module \u001b[38;5;129;01min\u001b[39;00m pb2_modules:\n\u001b[1;32m    337\u001b[0m         \u001b[38;5;28;01mdel\u001b[39;00m module\u001b[38;5;241m.\u001b[39m\u001b[38;5;21m__getattr__\u001b[39m\n",
      "File \u001b[0;32m~/idp-castellotti/venv/lib/python3.11/site-packages/yagrc/importer.py:201\u001b[0m, in \u001b[0;36mGrpcImporter.configure\u001b[0;34m(self, channel, filenames, path_prepend)\u001b[0m\n\u001b[1;32m    168\u001b[0m \u001b[38;5;28;01mdef\u001b[39;00m \u001b[38;5;21mconfigure\u001b[39m(\u001b[38;5;28mself\u001b[39m, channel, filenames\u001b[38;5;241m=\u001b[39m\u001b[38;5;28;01mNone\u001b[39;00m, path_prepend\u001b[38;5;241m=\u001b[39m\u001b[38;5;28;01mFalse\u001b[39;00m):\n\u001b[1;32m    169\u001b[0m \u001b[38;5;250m    \u001b[39m\u001b[38;5;124;03m\"\"\"Load a set of proto files and enable their dynamic module imports.\u001b[39;00m\n\u001b[1;32m    170\u001b[0m \n\u001b[1;32m    171\u001b[0m \u001b[38;5;124;03m    Load one or more specified files, as well as the transitive dependency\u001b[39;00m\n\u001b[0;32m   (...)\u001b[0m\n\u001b[1;32m    199\u001b[0m \u001b[38;5;124;03m        grpc.RpcError: Lower level RPC error.\u001b[39;00m\n\u001b[1;32m    200\u001b[0m \u001b[38;5;124;03m    \"\"\"\u001b[39;00m\n\u001b[0;32m--> 201\u001b[0m     loaded \u001b[38;5;241m=\u001b[39m \u001b[38;5;28;43mself\u001b[39;49m\u001b[38;5;241;43m.\u001b[39;49m\u001b[43mreflector\u001b[49m\u001b[38;5;241;43m.\u001b[39;49m\u001b[43mload_protocols\u001b[49m\u001b[43m(\u001b[49m\u001b[43mchannel\u001b[49m\u001b[43m,\u001b[49m\u001b[43m \u001b[49m\u001b[43mfilenames\u001b[49m\u001b[38;5;241;43m=\u001b[39;49m\u001b[43mfilenames\u001b[49m\u001b[43m)\u001b[49m\n\u001b[1;32m    202\u001b[0m     \u001b[38;5;28mself\u001b[39m\u001b[38;5;241m.\u001b[39m_finder\u001b[38;5;241m.\u001b[39mconfigure_files(loaded)\n\u001b[1;32m    204\u001b[0m     \u001b[38;5;28;01mif\u001b[39;00m \u001b[38;5;28mself\u001b[39m\u001b[38;5;241m.\u001b[39m_finder \u001b[38;5;129;01min\u001b[39;00m sys\u001b[38;5;241m.\u001b[39mmeta_path:\n",
      "File \u001b[0;32m~/idp-castellotti/venv/lib/python3.11/site-packages/yagrc/reflector.py:113\u001b[0m, in \u001b[0;36mGrpcReflectionEngine.load_protocols\u001b[0;34m(self, channel, filenames, symbols)\u001b[0m\n\u001b[1;32m    110\u001b[0m responses \u001b[38;5;241m=\u001b[39m stub\u001b[38;5;241m.\u001b[39mServerReflectionInfo(\u001b[38;5;28miter\u001b[39m(requests),\n\u001b[1;32m    111\u001b[0m                                       timeout\u001b[38;5;241m=\u001b[39mQUERY_TIMEOUT)\n\u001b[1;32m    112\u001b[0m deps \u001b[38;5;241m=\u001b[39m \u001b[38;5;28mset\u001b[39m()\n\u001b[0;32m--> 113\u001b[0m \u001b[38;5;28;01mfor\u001b[39;00m response \u001b[38;5;129;01min\u001b[39;00m responses:\n\u001b[1;32m    114\u001b[0m     \u001b[38;5;28;01mif\u001b[39;00m response\u001b[38;5;241m.\u001b[39mHasField(\u001b[38;5;124m\"\u001b[39m\u001b[38;5;124merror_response\u001b[39m\u001b[38;5;124m\"\u001b[39m):\n\u001b[1;32m    115\u001b[0m         \u001b[38;5;28;01mraise\u001b[39;00m ServiceError(response\u001b[38;5;241m.\u001b[39merror_response\u001b[38;5;241m.\u001b[39merror_message)\n",
      "File \u001b[0;32m~/idp-castellotti/venv/lib/python3.11/site-packages/grpc/_channel.py:475\u001b[0m, in \u001b[0;36m_Rendezvous.__next__\u001b[0;34m(self)\u001b[0m\n\u001b[1;32m    474\u001b[0m \u001b[38;5;28;01mdef\u001b[39;00m \u001b[38;5;21m__next__\u001b[39m(\u001b[38;5;28mself\u001b[39m):\n\u001b[0;32m--> 475\u001b[0m     \u001b[38;5;28;01mreturn\u001b[39;00m \u001b[38;5;28;43mself\u001b[39;49m\u001b[38;5;241;43m.\u001b[39;49m\u001b[43m_next\u001b[49m\u001b[43m(\u001b[49m\u001b[43m)\u001b[49m\n",
      "File \u001b[0;32m~/idp-castellotti/venv/lib/python3.11/site-packages/grpc/_channel.py:881\u001b[0m, in \u001b[0;36m_MultiThreadedRendezvous._next\u001b[0;34m(self)\u001b[0m\n\u001b[1;32m    879\u001b[0m     \u001b[38;5;28;01mraise\u001b[39;00m \u001b[38;5;167;01mStopIteration\u001b[39;00m()\n\u001b[1;32m    880\u001b[0m \u001b[38;5;28;01melif\u001b[39;00m \u001b[38;5;28mself\u001b[39m\u001b[38;5;241m.\u001b[39m_state\u001b[38;5;241m.\u001b[39mcode \u001b[38;5;129;01mis\u001b[39;00m \u001b[38;5;129;01mnot\u001b[39;00m \u001b[38;5;28;01mNone\u001b[39;00m:\n\u001b[0;32m--> 881\u001b[0m     \u001b[38;5;28;01mraise\u001b[39;00m \u001b[38;5;28mself\u001b[39m\n",
      "\u001b[0;31m_MultiThreadedRendezvous\u001b[0m: <_MultiThreadedRendezvous of RPC that terminated with:\n\tstatus = StatusCode.DEADLINE_EXCEEDED\n\tdetails = \"Deadline Exceeded\"\n\tdebug_error_string = \"UNKNOWN:Deadline Exceeded {created_time:\"2023-08-15T16:19:19.89918+02:00\", grpc_status:4}\"\n>"
     ]
    }
   ],
   "source": [
    "import os\n",
    "import time\n",
    "import nine981\n",
    "\n",
    "directory=\"./obstruction_maps\"\n",
    "def get_obstruction_maps():\n",
    "    # amount of seconds to collect maps for\n",
    "    for i in range(300):\n",
    "        map = nine981.get_obstruction_map()\n",
    "        os.makedirs(os.path.dirname(directory + \"/\"), exist_ok=True)\n",
    "        with open(f\"{directory}/{int(time.time())}.json\", \"w+\") as f:\n",
    "            f.write(map)\n",
    "        time.sleep(1)\n",
    "    os.exit(0)\n",
    "\n",
    "if __name__ == \"__main__\":\n",
    "    get_obstruction_maps()"
   ]
  },
  {
   "cell_type": "code",
   "execution_count": 2,
   "id": "e2b70d78-a8e4-472c-8f3d-1d1f02a66ab9",
   "metadata": {},
   "outputs": [
    {
     "data": {
      "image/png": "[encoded data removed]",
      "text/plain": [
       "<Figure size 640x480 with 1 Axes>"
      ]
     },
     "metadata": {},
     "output_type": "display_data"
    }
   ],
   "source": [
    "\n",
    "import json\n",
    "import numpy as np\n",
    "import matplotlib.pyplot as plt\n",
    "\n",
    "f1 = \"/Users/rc/idp-castellotti-data/map-bw-stuff4/1692089163.json\"\n",
    "map = json.load(open(f1))\n",
    "map = map[\"dishGetObstructionMap\"][\"snr\"]\n",
    "map = np.array(map1).reshape(123, 123)\n",
    "plt.imshow(map)\n",
    "plt.show()"
   ]
  },
  {
   "cell_type": "markdown",
   "id": "d3feebc8-b91b-49dd-955f-e4c7cb83ecc6",
   "metadata": {},
   "source": [
    "[ ] mention the visualize_handover function in common\n"
   ]
  },
  {
   "cell_type": "code",
   "execution_count": null,
   "id": "6422efad-e59c-4b1c-9b43-5ebdaea798ce",
   "metadata": {},
   "outputs": [],
   "source": []
  }
 ],
 "metadata": {
  "kernelspec": {
   "display_name": "Python 3 (ipykernel)",
   "language": "python",
   "name": "python3"
  },
  "language_info": {
   "codemirror_mode": {
    "name": "ipython",
    "version": 3
   },
   "file_extension": ".py",
   "mimetype": "text/x-python",
   "name": "python",
   "nbconvert_exporter": "python",
   "pygments_lexer": "ipython3",
   "version": "3.11.4"
  }
 },
 "nbformat": 4,
 "nbformat_minor": 5
}
