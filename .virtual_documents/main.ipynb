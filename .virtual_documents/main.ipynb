df = pd.read_csv("../idp-castellotti-data/large_file_download_5parallel_obstruction_map.csv")
df["timestamp"] = pd.to_datetime(df["timestamp"], unit='s', origin='unix')
plt.figure(figsize=(16,8))
sns.lineplot(data=df[0:300], dashes=True)
for i in range(0, 151, 15):
    plt.axvline(i, color="red", linestyle="--")
plt.show()


df = pd.read_csv("../idp-castellotti-data/large_file_download_5parallel.csv")
df["timestamp"] = pd.to_datetime(df["timestamp"], format="%Y-%m-%d %H:%M:%S.%f")
plt.figure()

fig, axes = plt.subplots(2, 2, figsize=(18, 18))
plt.title("donwloading debian iso (5 mirrors)")

ax = sns.lineplot(data=df[0:151], dashes=True, ax=axes[0, 0])
for i in range(0, 151, 15):
    ax.axvline(i, color="red", linestyle="--")

ax = sns.lineplot(data=df[150:300], dashes=True, ax=axes[0, 1])
for i in range(150, 301, 15):
    ax.axvline(i, color="red", linestyle="--")

ax = sns.lineplot(data=df[300:450], dashes=True, ax=axes[1, 0])
for i in range(300, 451, 15):
    ax.axvline(i, color="red", linestyle="--")

ax = sns.lineplot(data=df[450:600], dashes=True, ax=axes[1, 1])
for i in range(450, 601, 15):
    ax.axvline(i, color="red", linestyle="--")

plt.show()


# df = pd.read_csv("../idp-castellotti-data/visible_satellites_variable_distance.csv")
# plt.figure(figsize=(15, 8))
# sns.countplot(x=df["distance"]).set_title("number of satellites")
# plt.ylabel("# of satellites")
# plt.xlabel("distance (km)")
# plt.show()


# df0 = pd.read_csv("/home/rc/idp-castellotti-data/hist2.csv")
# df1 = pd.read_csv("/home/rc/idp-castellotti-data/hist3.csv")
# df2 = pd.read_csv("/home/rc/idp-castellotti-data/history.csv")
# df = pd.concat([df0, df1, df2], axis=1).reindex(df1.index)
# df.head()
# df.to_csv("/home/rc/idp-castellotti-data/hist.csv")


import json
import numpy as np
from common import detect_handovers
plt.rcParams.update({'figure.max_open_warning': 0})
list=detect_handovers("../idp-castellotti-data/raw_maps/")
for i,j in list:
    fig, ax = plt.subplots(1, 2,figsize=(12,7))
    map1 = json.load(open(i))
    map1 = map1["dishGetObstructionMap"]["snr"]
    map1 = np.array(map1).reshape(123, 123)
    map2 = json.load(open(j))
    map2 = map2["dishGetObstructionMap"]["snr"]
    map2 = np.array(map2).reshape(123, 123)
    ax[0].imshow(map1)
    ax[1].imshow(map2)
    plt.plot()


# import pandas as pd
# import matplotlib.pyplot as plt
# import seaborn as sns

# df = pd.read_csv("../idp-castellotti-data/large_file_download_5parallel_obstruction_map.csv")
# # df["timestamp"] = pd.to_datetime(df["timestamp"], unit='s', origin='unix')
# # print(df[400:401]["timestamp"])
# plt.figure(figsize=(16,8))
# sns.lineplot(data=df[400:600], dashes=True)
# # for i in range(0, 151, 15):
# #     plt.axvline(i, color="red", linestyle="--")
# # plt.show()


# from here on we have the stuff I am gonna publish, so let's be tidy


from skyfield.api import load, wgs84

stations_url = "https://celestrak.org/NORAD/elements/gp.php?GROUP=starlink&FORMAT=tle"
satellites = load.tle_file(stations_url)
print("Loaded", len(satellites), "satellites")
by_name = {sat.name: sat for sat in satellites}
satellite = by_name["STARLINK-1007"]

# year, month, day, hour, minute, second
ts = load.timescale()
t = ts.now()
a = satellite.at(t)
lat, lon = wgs84.latlon_of(a)
print("Latitude:", lat)
print("Longitude:", lon)


from common import calculate_visible_satellites

# garching coordinates
observer_latitude = 48.2489
observer_longitude = 11.6532
observer_elevation = 0

visible_satellites = calculate_visible_satellites(
    observer_latitude, observer_longitude, observer_elevation, distance_km=800
)

for sat, alt, az in visible_satellites:
    print(sat.name)
    # print(f"Satellite: {sat}")
    # print(f"Altitude: {alt.degrees} degrees")
    # print(f"Azimuth: {az.degrees} degrees")
