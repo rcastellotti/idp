{
 "cells": [
  {
   "cell_type": "code",
   "execution_count": 2,
   "metadata": {},
   "outputs": [
    {
     "name": "stdout",
     "output_type": "stream",
     "text": [
      "Loaded 4219 satellites\n",
      "Latitude: 51deg 51' 11.6\"\n",
      "Longitude: 24deg 40' 18.2\"\n"
     ]
    }
   ],
   "source": [
    "from skyfield.api import load, wgs84\n",
    "\n",
    "stations_url = 'https://celestrak.org/NORAD/elements/gp.php?GROUP=starlink&FORMAT=tle'\n",
    "satellites = load.tle_file(stations_url)\n",
    "print('Loaded', len(satellites), 'satellites')\n",
    "by_name = {sat.name: sat for sat in satellites}\n",
    "satellite = by_name['STARLINK-1007']\n",
    "\n",
    "# year, month, day, hour, minute, second\n",
    "ts=load.timescale()\n",
    "t = ts.now()\n",
    "a=satellite.at(t)\n",
    "lat, lon = wgs84.latlon_of(a)\n",
    "print('Latitude:', lat)\n",
    "print('Longitude:', lon)"
   ]
  },
  {
   "cell_type": "code",
   "execution_count": 3,
   "metadata": {},
   "outputs": [
    {
     "name": "stdout",
     "output_type": "stream",
     "text": [
      "STARLINK-1048\n",
      "STARLINK-1297\n",
      "STARLINK-1286\n",
      "STARLINK-1472\n",
      "STARLINK-1512\n",
      "STARLINK-1534\n",
      "STARLINK-2445\n",
      "STARLINK-2455\n",
      "STARLINK-2658\n",
      "STARLINK-2253\n",
      "STARLINK-2688\n",
      "STARLINK-3331\n",
      "STARLINK-3791\n",
      "STARLINK-3798\n",
      "STARLINK-3933\n",
      "STARLINK-4106\n",
      "STARLINK-4258\n",
      "STARLINK-4273\n",
      "STARLINK-4056\n",
      "STARLINK-4129\n"
     ]
    }
   ],
   "source": [
    "from common import calculate_visible_satellites\n",
    "\n",
    "# garching coordinates\n",
    "observer_latitude = 48.2489\n",
    "observer_longitude = 11.6532\n",
    "observer_elevation = 0\n",
    "\n",
    "visible_satellites = calculate_visible_satellites(\n",
    "    observer_latitude, observer_longitude, observer_elevation, distance_km=800\n",
    ")\n",
    "\n",
    "for sat, alt, az in visible_satellites:\n",
    "    print(sat.name)\n",
    "    # print(f\"Satellite: {sat}\")\n",
    "    # print(f\"Altitude: {alt.degrees} degrees\")\n",
    "    # print(f\"Azimuth: {az.degrees} degrees\")"
   ]
  },
  {
   "cell_type": "code",
   "execution_count": null,
   "metadata": {},
   "outputs": [],
   "source": []
  }
 ],
 "metadata": {
  "kernelspec": {
   "display_name": "venv",
   "language": "python",
   "name": "python3"
  },
  "language_info": {
   "codemirror_mode": {
    "name": "ipython",
    "version": 3
   },
   "file_extension": ".py",
   "mimetype": "text/x-python",
   "name": "python",
   "nbconvert_exporter": "python",
   "pygments_lexer": "ipython3",
   "version": "3.9.2"
  },
  "orig_nbformat": 4
 },
 "nbformat": 4,
 "nbformat_minor": 2
}
