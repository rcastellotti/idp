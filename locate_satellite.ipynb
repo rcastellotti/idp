{
 "cells": [
  {
   "cell_type": "code",
   "execution_count": 3,
   "id": "ea9ea460",
   "metadata": {},
   "outputs": [
    {
     "name": "stdout",
     "output_type": "stream",
     "text": [
      "Loaded 4168 satellites\n",
      "STARLINK-4383 catalog #53473 epoch 2023-05-28 20:44:15 UTC\n",
      "<class 'tuple'>\n"
     ]
    }
   ],
   "source": [
    "from skyfield.api import load, wgs84\n",
    "\n",
    "stations_url = 'https://celestrak.org/NORAD/elements/gp.php?GROUP=starlink&FORMAT=tle'\n",
    "satellites = load.tle_file(stations_url)\n",
    "print('Loaded', len(satellites), 'satellites')\n",
    "by_name = {sat.name: sat for sat in satellites}\n",
    "satellite = by_name['STARLINK-1007']\n",
    "\n",
    "# year, month, day, hour, minute, second\n",
    "# t = ts.utc(2023, 4, 9, 11, 28, 7)\n",
    "t = ts.now()\n",
    "\n",
    "print(satellite)\n",
    "a=satellite.at(t)\n",
    "lat, lon = wgs84.latlon_of(a)\n",
    "print('Latitude:', lat)\n",
    "print('Longitude:', lon)"
   ]
  },
  {
   "cell_type": "code",
   "execution_count": 16,
   "id": "c83cb066",
   "metadata": {},
   "outputs": [
    {
     "name": "stdout",
     "output_type": "stream",
     "text": [
      "Satellite: STARLINK-1377 catalog #45547 epoch 2023-05-28 22:51:13 UTC\n",
      "Satellite: STARLINK-1663 catalog #46535 epoch 2023-05-28 21:27:38 UTC\n",
      "Satellite: STARLINK-1680 catalog #46558 epoch 2023-05-29 02:13:35 UTC\n",
      "Satellite: STARLINK-1746 catalog #46588 epoch 2023-05-28 23:00:31 UTC\n",
      "Satellite: STARLINK-2556 catalog #48302 epoch 2023-05-28 19:39:29 UTC\n",
      "Satellite: STARLINK-2758 catalog #48638 epoch 2023-05-28 21:18:18 UTC\n",
      "Satellite: STARLINK-2653 catalog #48665 epoch 2023-05-28 21:16:19 UTC\n",
      "Satellite: STARLINK-2649 catalog #48680 epoch 2023-05-28 21:17:41 UTC\n",
      "Satellite: STARLINK-3336 catalog #50818 epoch 2023-05-28 21:41:34 UTC\n",
      "Satellite: STARLINK-3758 catalog #52297 epoch 2023-05-28 19:54:15 UTC\n",
      "Satellite: STARLINK-3924 catalog #52570 epoch 2023-05-28 21:32:17 UTC\n",
      "Satellite: STARLINK-4110 catalog #53166 epoch 2023-05-28 21:39:35 UTC\n",
      "Satellite: STARLINK-4294 catalog #53176 epoch 2023-05-29 02:25:03 UTC\n",
      "Satellite: STARLINK-4528 catalog #53399 epoch 2023-05-28 21:34:17 UTC\n",
      "Satellite: STARLINK-4549 catalog #53433 epoch 2023-05-28 19:56:15 UTC\n",
      "Satellite: STARLINK-5296 catalog #55312 epoch 2023-05-28 21:39:31 UTC\n"
     ]
    }
   ],
   "source": [
    "from skyfield.api import Topos, load\n",
    "\n",
    "def calculate_visible_satellites(observer_latitude, observer_longitude, observer_elevation, tle_file_path):\n",
    "    # Load TLE data\n",
    "    satellites = load.tle_file(tle_file_path)\n",
    "\n",
    "    # Define observer location\n",
    "    observer = Topos(observer_latitude, observer_longitude, elevation_m=observer_elevation)\n",
    "\n",
    "    # Load ephemeris\n",
    "    ts = load.timescale()\n",
    "    t = ts.now()\n",
    "\n",
    "    # Calculate satellite positions\n",
    "    positions = []\n",
    "    for sat in satellites:\n",
    "        # tle = satellites[sat]\n",
    "        # satellite = tle['satellite']\n",
    "        satellite=sat\n",
    "        position = (satellite - observer).at(t)\n",
    "        positions.append((sat, position))\n",
    "\n",
    "    # Filter visible satellites\n",
    "    visible_satellites = []\n",
    "    for sat, position in positions:\n",
    "        alt, az, distance = position.altaz()\n",
    "        # Satellite is above the horizon\n",
    "        if alt.degrees > 0 and distance.km <800:  \n",
    "            visible_satellites.append((sat, alt, az))\n",
    "\n",
    "    return visible_satellites\n",
    "\n",
    "#garching coordinates \n",
    "observer_latitude = 48.2489 \n",
    "observer_longitude = 11.6532  \n",
    "observer_elevation = 0 \n",
    "tle_file_path = 'gp.php'\n",
    "\n",
    "visible_satellites = calculate_visible_satellites(observer_latitude, observer_longitude, observer_elevation, tle_file_path)\n",
    "\n",
    "# Print visible satellites\n",
    "for sat, alt, az in visible_satellites:\n",
    "    # pass\n",
    "    print(f\"Satellite: {sat}\")\n",
    "    # print(f\"Altitude: {alt.degrees} degrees\")\n",
    "    # print(f\"Azimuth: {az.degrees} degrees\")"
   ]
  },
  {
   "cell_type": "code",
   "execution_count": null,
   "id": "c5c99588",
   "metadata": {},
   "outputs": [],
   "source": []
  }
 ],
 "metadata": {
  "kernelspec": {
   "display_name": "Python 3",
   "language": "python",
   "name": "python3"
  },
  "language_info": {
   "codemirror_mode": {
    "name": "ipython",
    "version": 3
   },
   "file_extension": ".py",
   "mimetype": "text/x-python",
   "name": "python",
   "nbconvert_exporter": "python",
   "pygments_lexer": "ipython3",
   "version": "3.9.2"
  }
 },
 "nbformat": 4,
 "nbformat_minor": 5
}
