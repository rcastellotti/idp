{
 "cells": [
  {
   "cell_type": "code",
   "execution_count": 79,
   "id": "ea9ea460",
   "metadata": {},
   "outputs": [
    {
     "name": "stdout",
     "output_type": "stream",
     "text": [
      "Loaded 3927 satellites\n",
      "STARLINK-1007 catalog #44713 epoch 2023-04-08 12:45:07 UTC\n",
      "Latitude: 51deg 14' 11.1\"\n",
      "Longitude: 13deg 15' 57.5\"\n"
     ]
    }
   ],
   "source": [
    "from skyfield.api import load, wgs84\n",
    "\n",
    "stations_url = 'https://celestrak.org/NORAD/elements/gp.php?GROUP=starlink&FORMAT=tle'\n",
    "satellites = load.tle_file(stations_url)\n",
    "print('Loaded', len(satellites), 'satellites')\n",
    "by_name = {sat.name: sat for sat in satellites}\n",
    "satellite = by_name['STARLINK-1007']\n",
    "\n",
    "# year, month, day, hour, minute, second\n",
    "# t = ts.utc(2023, 4, 9, 11, 28, 7)\n",
    "t = ts.now()\n",
    "\n",
    "print(satellite)\n",
    "a=satellite.at(t)\n",
    "lat, lon = wgs84.latlon_of(a)\n",
    "print('Latitude:', lat)\n",
    "print('Longitude:', lon)"
   ]
  }
 ],
 "metadata": {
  "kernelspec": {
   "display_name": "Python 3 (ipykernel)",
   "language": "python",
   "name": "python3"
  },
  "language_info": {
   "codemirror_mode": {
    "name": "ipython",
    "version": 3
   },
   "file_extension": ".py",
   "mimetype": "text/x-python",
   "name": "python",
   "nbconvert_exporter": "python",
   "pygments_lexer": "ipython3",
   "version": "3.9.6"
  }
 },
 "nbformat": 4,
 "nbformat_minor": 5
}
