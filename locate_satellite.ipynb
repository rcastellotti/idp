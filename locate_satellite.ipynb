{
 "cells": [
  {
   "cell_type": "code",
   "execution_count": 3,
   "id": "ea9ea460",
   "metadata": {},
   "outputs": [
    {
     "name": "stdout",
     "output_type": "stream",
     "text": [
      "Loaded 4168 satellites\n",
      "STARLINK-4383 catalog #53473 epoch 2023-05-28 20:44:15 UTC\n",
      "<class 'tuple'>\n"
     ]
    }
   ],
   "source": [
    "from skyfield.api import load, wgs84\n",
    "\n",
    "stations_url = 'https://celestrak.org/NORAD/elements/gp.php?GROUP=starlink&FORMAT=tle'\n",
    "satellites = load.tle_file(stations_url)\n",
    "print('Loaded', len(satellites), 'satellites')\n",
    "by_name = {sat.name: sat for sat in satellites}\n",
    "satellite = by_name['STARLINK-1007']\n",
    "\n",
    "# year, month, day, hour, minute, second\n",
    "# t = ts.utc(2023, 4, 9, 11, 28, 7)\n",
    "t = ts.now()\n",
    "\n",
    "print(satellite)\n",
    "a=satellite.at(t)\n",
    "lat, lon = wgs84.latlon_of(a)\n",
    "print('Latitude:', lat)\n",
    "print('Longitude:', lon)"
   ]
  },
  {
   "cell_type": "code",
   "execution_count": 4,
   "id": "c83cb066",
   "metadata": {},
   "outputs": [
    {
     "name": "stdout",
     "output_type": "stream",
     "text": [
      "Satellite: STARLINK-1034 catalog #44739 epoch 2023-05-28 22:08:18 UTC\n",
      "Satellite: STARLINK-1255 catalog #45399 epoch 2023-05-28 21:54:11 UTC\n",
      "Satellite: STARLINK-1485 catalog #45774 epoch 2023-05-29 04:24:17 UTC\n",
      "Satellite: STARLINK-1712 catalog #46581 epoch 2023-05-28 23:32:22 UTC\n",
      "Satellite: STARLINK-1830 catalog #46727 epoch 2023-05-29 02:51:24 UTC\n",
      "Satellite: STARLINK-2198 catalog #47775 epoch 2023-05-29 02:53:22 UTC\n",
      "Satellite: STARLINK-2467 catalog #48126 epoch 2023-05-28 21:54:50 UTC\n",
      "Satellite: STARLINK-2525 catalog #48482 epoch 2023-05-29 04:26:16 UTC\n",
      "Satellite: STARLINK-2187 catalog #48562 epoch 2023-05-28 21:52:11 UTC\n",
      "Satellite: STARLINK-3246 catalog #49732 epoch 2023-05-29 01:26:50 UTC\n",
      "Satellite: STARLINK-3206 catalog #49764 epoch 2023-05-29 01:22:48 UTC\n",
      "Satellite: STARLINK-3831 catalog #52332 epoch 2023-05-29 03:11:30 UTC\n",
      "Satellite: STARLINK-3792 catalog #52339 epoch 2023-05-29 03:10:03 UTC\n",
      "Satellite: STARLINK-3824 catalog #52360 epoch 2023-05-29 01:32:05 UTC\n",
      "Satellite: STARLINK-4072 catalog #52694 epoch 2023-05-29 01:24:47 UTC\n",
      "Satellite: STARLINK-4096 catalog #53160 epoch 2023-05-28 23:52:03 UTC\n",
      "Satellite: STARLINK-4316 catalog #53471 epoch 2023-05-28 20:49:35 UTC\n",
      "Satellite: STARLINK-5118 catalog #53991 epoch 2023-05-29 02:57:17 UTC\n",
      "Satellite: STARLINK-5099 catalog #54009 epoch 2023-05-29 03:12:02 UTC\n"
     ]
    }
   ],
   "source": [
    "from common import calculate_visible_satellites\n",
    "#garching coordinates \n",
    "observer_latitude = 48.2489 \n",
    "observer_longitude = 11.6532  \n",
    "observer_elevation = 0 \n",
    "\n",
    "visible_satellites = calculate_visible_satellites(observer_latitude, observer_longitude, observer_elevation)\n",
    "\n",
    "# Print visible satellites\n",
    "for sat, alt, az in visible_satellites:\n",
    "    print(f\"Satellite: {sat}\")\n",
    "    # print(f\"Altitude: {alt.degrees} degrees\")\n",
    "    # print(f\"Azimuth: {az.degrees} degrees\")"
   ]
  },
  {
   "cell_type": "code",
   "execution_count": null,
   "id": "c5c99588",
   "metadata": {},
   "outputs": [],
   "source": []
  }
 ],
 "metadata": {
  "kernelspec": {
   "display_name": "Python 3",
   "language": "python",
   "name": "python3"
  },
  "language_info": {
   "codemirror_mode": {
    "name": "ipython",
    "version": 3
   },
   "file_extension": ".py",
   "mimetype": "text/x-python",
   "name": "python",
   "nbconvert_exporter": "python",
   "pygments_lexer": "ipython3",
   "version": "3.9.2"
  }
 },
 "nbformat": 4,
 "nbformat_minor": 5
}
