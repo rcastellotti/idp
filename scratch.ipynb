{
 "cells": [
  {
   "cell_type": "code",
   "execution_count": null,
   "metadata": {},
   "outputs": [],
   "source": [
    "import sqlite3\n",
    "import pandas as pd\n",
    "import numpy as np\n",
    "import csv\n",
    "import matplotlib.pyplot as plt\n",
    "import seaborn as sns\n",
    "import os\n",
    "import json\n",
    "import networkx as nx\n",
    "from collections import defaultdict\n",
    "from datetime import datetime\n",
    "import matplotlib.dates as mdates\n",
    "from common import detect_handovers,get_adjacent_files"
   ]
  },
  {
   "cell_type": "code",
   "execution_count": null,
   "metadata": {},
   "outputs": [],
   "source": [
    "def idplot(base, hops, _type, method, host=None):\n",
    "    G = nx.Graph()\n",
    "    g = {}\n",
    "    for file in os.listdir(base):\n",
    "        filename = os.fsdecode(file)\n",
    "        if _type in filename and method in filename:\n",
    "            with open(base + filename, \"r\") as csvfile:\n",
    "                d = list(csv.reader(csvfile))\n",
    "                for r in range(len(d) - (30 - hops)):\n",
    "                    ip1 = d[r][2]\n",
    "                    ip2 = d[r + 1][2]\n",
    "                    effe = [\"*\", \"ip\"]\n",
    "                    if ip1 not in effe and ip2 not in effe:\n",
    "                        if ip1 not in g:\n",
    "                            g[ip1] = []\n",
    "                        if ip2 not in g[ip1]:\n",
    "                            g[ip1].append(ip2)\n",
    "\n",
    "    for k, v in g.items():\n",
    "        G.add_node(k)\n",
    "        for i in v:\n",
    "            G.add_edge(k, i)\n",
    "\n",
    "    return G\n",
    "\n",
    "def draw(G):\n",
    "    # _,degree = map(list, zip(*G.degree()))\n",
    "    nx.draw_kamada_kawai(\n",
    "        G,\n",
    "        node_color=range(len(G.degree())),\n",
    "        cmap=plt.cm.GnBu,\n",
    "        # node_size=[(v * 500) + 1 for v in  degree],\n",
    "        # with_labels=True,\n",
    "    )\n",
    "def cloud_draw(provider, hops, method):\n",
    "    plt.figure(figsize=(10, 15))\n",
    "    plt.subplot(3, 2, 1)  # Define 3 rows, 2 column, Activate subplot 1.\n",
    "    base = f\"../idp-castellotti-data/traceroutes_cloud/{provider}/\"\n",
    "    plt.subplot(321)\n",
    "    G = idplot(base=base, hops=8, _type=\"starlink\", method=method)\n",
    "    draw(G)\n",
    "    plt.subplot(322)\n",
    "    G = idplot(base=base, hops=hops, _type=\"normal\", method=method)\n",
    "    draw(G)\n",
    "    plt.show()\n",
    "    \n"
   ]
  },
  {
   "cell_type": "code",
   "execution_count": null,
   "metadata": {},
   "outputs": [],
   "source": [
    "cloud_draw(provider=\"aws\", hops=7, method=\"ICMP\")"
   ]
  },
  {
   "cell_type": "code",
   "execution_count": null,
   "metadata": {},
   "outputs": [],
   "source": [
    "cloud_draw(provider=\"aws\", hops=7, method=\"UDP\")"
   ]
  },
  {
   "cell_type": "code",
   "execution_count": null,
   "metadata": {},
   "outputs": [],
   "source": [
    "cloud_draw(provider=\"aws\", hops=7, method=\"TCP\")"
   ]
  },
  {
   "cell_type": "code",
   "execution_count": null,
   "metadata": {},
   "outputs": [],
   "source": [
    "cloud_draw(provider=\"azure\", hops=7, method=\"ICMP\")"
   ]
  },
  {
   "cell_type": "code",
   "execution_count": null,
   "metadata": {},
   "outputs": [],
   "source": [
    "from common import calculate_visible_satellites\n",
    "\n",
    "# garching coordinates\n",
    "observer_latitude = 48.2489\n",
    "observer_longitude = 11.6532\n",
    "observer_elevation = 0\n",
    "\n",
    "visible_satellites = calculate_visible_satellites(observer_latitude, observer_longitude, observer_elevation, distance_km=800)\n",
    "\n",
    "for sat, alt, az in visible_satellites:\n",
    "    print(sat.name)\n",
    "    # print(f\"Satellite: {sat}\")\n",
    "    # print(f\"Altitude: {alt.degrees} degrees\")\n",
    "    # print(f\"Azimuth: {az.degrees} degrees\")"
   ]
  },
  {
   "cell_type": "code",
   "execution_count": null,
   "metadata": {},
   "outputs": [],
   "source": [
    "df = pd.read_csv(\"../idp-castellotti-data/large_file_download_5parallel.csv\")\n",
    "# df[\"timestamp\"] = pd.to_datetime(df[\"timestamp\"], unit='s', origin='unix')\n",
    "plt.figure(figsize=(16,8))\n",
    "sns.lineplot(data=df[100:], x=\"timestamp\",y=\"pop_ping_latency_ms\", dashes=True)\n",
    "plt.show()\n"
   ]
  },
  {
   "cell_type": "code",
   "execution_count": null,
   "metadata": {},
   "outputs": [],
   "source": [
    "df0 = pd.read_csv(\"../idp-castellotti-data/pli_normal.csv\")\n",
    "df1 = pd.read_csv(\"../idp-castellotti-data/pli_10k.csv\")\n",
    "df2 = pd.read_csv(\"../idp-castellotti-data/pli_20k.csv\")\n",
    "df3 = pd.read_csv(\"../idp-castellotti-data/pli_50k.csv\")\n",
    "df4 = pd.read_csv(\"../idp-castellotti-data/pli_100k.csv\")\n",
    "df5 = pd.read_csv(\"../idp-castellotti-data/pli_1M.csv\")\n",
    "df6 = pd.read_csv(\"../idp-castellotti-data/pli_10M.csv\")\n",
    "df = pd.concat([df0, df1, df2, df3, df4, df5, df6], axis=1).reindex(df1.index)\n",
    "plt.figure(figsize=(10, 4))\n",
    "sns.boxplot(\n",
    "    data=df[\n",
    "        [\n",
    "            \"rtt\",\n",
    "            # \"pop_ping_latency_ms\",\n",
    "            \"rtt10k\",\n",
    "            # \"pop_ping_latency_ms10k\",\n",
    "            \"rtt20k\",\n",
    "            # \"pop_ping_latency_ms20k\",\n",
    "            \"rtt50k\",\n",
    "            # \"pop_ping_latency_ms50k\",\n",
    "            \"rtt100k\",\n",
    "            # \"pop_ping_latency_ms100k\",\n",
    "            \"rtt1M\",\n",
    "            # \"pop_ping_latency_ms1M\",\n",
    "            \"rtt10M\",\n",
    "            # \"pop_ping_latency_ms10M\",\n",
    "        ]\n",
    "    ],\n",
    "    orient=\"h\",\n",
    ")\n",
    "plt.xlabel(\"time (milliseconds)\")\n",
    "plt.show()"
   ]
  },
  {
   "cell_type": "code",
   "execution_count": null,
   "metadata": {},
   "outputs": [],
   "source": [
    "df = pd.read_csv(\"../idp-castellotti-data/visible_satellites_variable_distance.csv\")\n",
    "plt.figure(figsize=(15, 8))\n",
    "sns.countplot(x=df[\"distance\"]).set_title(\"number of satellites\")\n",
    "plt.ylabel(\"# of satellites\")\n",
    "plt.xlabel(\"distance (km)\")\n",
    "plt.show()"
   ]
  },
  {
   "cell_type": "code",
   "execution_count": null,
   "metadata": {},
   "outputs": [],
   "source": [
    "# satellites.sqlite is created from `patterns_in_satellite_appearances`\n",
    "cnx = sqlite3.connect(\"../idp-castellotti-data/satellites.sqlite\")\n",
    "df = pd.read_sql(\"select * from satellites\", cnx)\n",
    "# df = df[:1000]\n",
    "df[\"timestamp\"] = pd.to_datetime(df[\"ts\"], unit=\"s\")\n",
    "sns.countplot(df, x=\"relative_ts\", dodge=False)\n",
    "plt.xlabel(\"time intervals (15 seconds)\")\n",
    "plt.ylabel(\"# of visible satellites\")\n",
    "plt.title('count of visible satellites in 15 seconds intervals')\n",
    "plt.gca().axes.xaxis.set_ticklabels([])\n",
    "plt.plot()"
   ]
  },
  {
   "cell_type": "code",
   "execution_count": null,
   "metadata": {},
   "outputs": [],
   "source": [
    "from skyfield.api import load, wgs84\n",
    "\n",
    "stations_url = \"https://celestrak.org/NORAD/elements/gp.php?GROUP=starlink&FORMAT=tle\"\n",
    "satellites = load.tle_file(stations_url)\n",
    "print(\"Loaded\", len(satellites), \"satellites\")\n",
    "by_name = {sat.name: sat for sat in satellites}\n",
    "satellite = by_name[\"STARLINK-1007\"]\n",
    "\n",
    "# year, month, day, hour, minute, second\n",
    "ts = load.timescale()\n",
    "t = ts.now()\n",
    "a = satellite.at(t)\n",
    "lat, lon = wgs84.latlon_of(a)\n",
    "print(\"Latitude:\", lat)\n",
    "print(\"Longitude:\", lon)"
   ]
  },
  {
   "cell_type": "code",
   "execution_count": null,
   "metadata": {},
   "outputs": [],
   "source": [
    "handover_unix_timestamps = []\n",
    "directory_path = \"../idp-castellotti-data/obstruction_maps\"\n",
    "\n",
    "for f in get_adjacent_files(directory_path):\n",
    "    h=detect_handovers(\n",
    "        os.path.join(directory_path, f[0]),\n",
    "        os.path.join(directory_path, f[1]),\n",
    "    )\n",
    "    if h is not None:\n",
    "        handover_unix_timestamps.append(h)\n",
    "\n",
    "\n",
    "df = pd.read_csv(\"../idp-castellotti-data/obstruction_maps.csv\")\n",
    "plt.figure(figsize=(16, 8))\n",
    "sns.lineplot(data=df, x=\"timestamp\", y=\"downlink_troughput_bps\", dashes=True)\n",
    "\n",
    "for timestamp in handover_unix_timestamps:\n",
    "    plt.axvline(x=timestamp, color=\"r\", linestyle=\"--\")"
   ]
  },
  {
   "cell_type": "code",
   "execution_count": null,
   "metadata": {},
   "outputs": [],
   "source": [
    "def split_non_consequtive(data):\n",
    "    data = iter(data)\n",
    "    val = next(data)\n",
    "    chunk = []\n",
    "    try:\n",
    "        while True:\n",
    "            chunk.append(val)\n",
    "            val = next(data)\n",
    "            if val[0] != chunk[-1][0] + 1:\n",
    "                yield chunk\n",
    "                chunk = []\n",
    "    except StopIteration:\n",
    "        if chunk:\n",
    "            yield chunk\n",
    "            \n",
    "cnx = sqlite3.connect(\"../idp-castellotti-data/satellites.sqlite\")\n",
    "satellites = cnx.execute(\"SELECT * FROM satellites limit 100000\").fetchall()\n",
    "sats = defaultdict(list)\n",
    "for sat in satellites:\n",
    "    sats[sat[3]].append([sat[1], round(sat[2]), sat[3]])\n",
    "\n",
    "segments = defaultdict(list)\n",
    "count = 0\n",
    "for k in sats:\n",
    "    if count == 10000:\n",
    "        break\n",
    "    count += 1\n",
    "    for i in split_non_consequtive(sats[k]):\n",
    "        segments[k].append(\n",
    "            (datetime.fromtimestamp(i[0][1]), datetime.fromtimestamp(i[-1][1]))\n",
    "        )\n",
    "\n",
    "\n",
    "# we need data in this format: https://stackoverflow.com/a/12291380\n",
    "plt.figure(figsize=(16, 8))\n",
    "for y in segments:\n",
    "    for seg in segments[y]:\n",
    "        plt.plot(seg, [y, y])\n",
    "plt.gca().xaxis.set_major_locator(mdates.HourLocator())\n",
    "plt.gca().axes.xaxis.set_ticklabels([])\n",
    "plt.gca().axes.yaxis.set_ticklabels([])\n",
    "# plt.ylabel(\"satname\")\n",
    "# plt.xlabel(\"time (each tick is one hour)\")\n",
    "# plt.title(\"visualizing patterns in satellites appearances\")\n",
    "# plt.savefig(\"/Users/rc/idp-castellotti/tex/tumbeamer/pics/patterns-in-satellite-appearances.pdf\")\n",
    "plt.plot()"
   ]
  },
  {
   "cell_type": "code",
   "execution_count": null,
   "metadata": {},
   "outputs": [],
   "source": [
    "map = json.load(open(\"../idp-castellotti-data/obstruction_maps/1692089163.json\"))\n",
    "map = map[\"dishGetObstructionMap\"][\"snr\"]\n",
    "map = np.array(map).reshape(123, 123)\n",
    "plt.imshow(map)\n",
    "plt.show()"
   ]
  },
  {
   "cell_type": "code",
   "execution_count": null,
   "metadata": {},
   "outputs": [],
   "source": [
    "df = pd.read_csv(\"../idp-castellotti-data/large_file_download_5parallel.csv\")\n",
    "df[\"timestamp\"] = pd.to_datetime(df[\"timestamp\"], format=\"%Y-%m-%d %H:%M:%S.%f\")\n",
    "plt.figure(figsize=(12, 6))\n",
    "sns.lineplot(data=df[0:151], dashes=True)\n",
    "for i in range(0, 151, 15):\n",
    "    plt.axvline(i, color=\"red\", linestyle=\"--\")\n",
    "plt.legend(loc='upper right')\n",
    "plt.show()"
   ]
  },
  {
   "cell_type": "code",
   "execution_count": null,
   "metadata": {},
   "outputs": [],
   "source": [
    "df = pd.read_csv(\"../idp-castellotti-data/large_file_download_5parallel.csv\")\n",
    "df[\"timestamp\"] = pd.to_datetime(df[\"timestamp\"], format=\"%Y-%m-%d %H:%M:%S.%f\")\n",
    "\n",
    "fig, axes = plt.subplots(2, 2, figsize=(18, 18))\n",
    "plt.title(\"donwloading debian iso (5 mirrors)\")\n",
    "\n",
    "plot = sns.lineplot(data=df[0:150], dashes=True,ax=axes[0, 0])\n",
    "for i in range(0, 151, 15):\n",
    "    plot.axvline(i, color=\"red\", linestyle=\"--\")\n",
    "\n",
    "ax = sns.lineplot(data=df[150:300], dashes=True, ax=axes[0, 1])\n",
    "for i in range(150, 301, 15):\n",
    "    ax.axvline(i, color=\"red\", linestyle=\"--\")\n",
    "\n",
    "ax = sns.lineplot(data=df[300:450], dashes=True, ax=axes[1, 0])\n",
    "for i in range(300, 451, 15):\n",
    "    ax.axvline(i, color=\"red\", linestyle=\"--\")\n",
    "\n",
    "ax = sns.lineplot(data=df[450:600], dashes=True, ax=axes[1, 1])\n",
    "for i in range(450, 601, 15):\n",
    "    ax.axvline(i, color=\"red\", linestyle=\"--\")\n",
    "\n",
    "plt.show()"
   ]
  }
 ],
 "metadata": {
  "kernelspec": {
   "display_name": "Python 3 (ipykernel)",
   "language": "python",
   "name": "python3"
  },
  "language_info": {
   "codemirror_mode": {
    "name": "ipython",
    "version": 3
   },
   "file_extension": ".py",
   "mimetype": "text/x-python",
   "name": "python",
   "nbconvert_exporter": "python",
   "pygments_lexer": "ipython3",
   "version": "3.9.6"
  }
 },
 "nbformat": 4,
 "nbformat_minor": 4
}
